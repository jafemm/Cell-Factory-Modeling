{
 "cells": [
  {
   "cell_type": "code",
   "execution_count": 3,
   "metadata": {},
   "outputs": [
    {
     "data": {
      "text/html": [
       "        <script type=\"text/javascript\">\n",
       "        window.PlotlyConfig = {MathJaxConfig: 'local'};\n",
       "        if (window.MathJax) {MathJax.Hub.Config({SVG: {font: \"STIX-Web\"}});}\n",
       "        if (typeof require !== 'undefined') {\n",
       "        require.undef(\"plotly\");\n",
       "        requirejs.config({\n",
       "            paths: {\n",
       "                'plotly': ['https://cdn.plot.ly/plotly-2.6.3.min']\n",
       "            }\n",
       "        });\n",
       "        require(['plotly'], function(Plotly) {\n",
       "            window._Plotly = Plotly;\n",
       "        });\n",
       "        }\n",
       "        </script>\n",
       "        "
      ]
     },
     "metadata": {},
     "output_type": "display_data"
    }
   ],
   "source": [
    "import cobra  #porque lo estoy importando\n",
    "import pandas as pd\n",
    "import escher\n",
    "%matplotlib inline\n",
    "from cobra import Reaction, Metabolite\n",
    "import pandas as pd\n",
    "pd.options.display.max_rows = 30\n",
    "from cameo.flux_analysis import phenotypic_phase_plane\n",
    "from cameo.visualization.plotting.with_plotly import PlotlyPlotter\n",
    "from cobra.flux_analysis import flux_variability_analysis\n",
    "import matplotlib.pyplot as plt\n",
    "plt.style.use('ggplot')\n",
    "from pandas import DataFrame\n",
    "import plotly.graph_objs as go\n",
    "from plotly.offline import init_notebook_mode, iplot\n",
    "init_notebook_mode(connected=True)\n",
    "from IPython.display import display\n",
    "import re\n",
    "import gurobipy\n",
    "from cobra.io import read_sbml_model\n",
    "from cameo.strain_design import pathway_prediction\n",
    "from cameo.models import universal\n",
    "from cameo.strain_design.heuristic.evolutionary_based import OptGene\n",
    "from cameo.strain_design.deterministic.linear_programming import OptKnock\n",
    "from cobra.io import write_sbml_model"
   ]
  },
  {
   "cell_type": "code",
   "execution_count": 4,
   "metadata": {},
   "outputs": [
    {
     "data": {
      "text/html": [
       "\n",
       "        <table>\n",
       "            <tr>\n",
       "                <td><strong>Name</strong></td>\n",
       "                <td>e_coli_core</td>\n",
       "            </tr><tr>\n",
       "                <td><strong>Memory address</strong></td>\n",
       "                <td>0x07f888ca27eb0</td>\n",
       "            </tr><tr>\n",
       "                <td><strong>Number of metabolites</strong></td>\n",
       "                <td>72</td>\n",
       "            </tr><tr>\n",
       "                <td><strong>Number of reactions</strong></td>\n",
       "                <td>95</td>\n",
       "            </tr><tr>\n",
       "                <td><strong>Number of groups</strong></td>\n",
       "                <td>0</td>\n",
       "            </tr><tr>\n",
       "                <td><strong>Objective expression</strong></td>\n",
       "                <td>1.0*BIOMASS_Ecoli_core_w_GAM - 1.0*BIOMASS_Ecoli_core_w_GAM_reverse_712e5</td>\n",
       "            </tr><tr>\n",
       "                <td><strong>Compartments</strong></td>\n",
       "                <td>extracellular space, cytosol</td>\n",
       "            </tr>\n",
       "          </table>"
      ],
      "text/plain": [
       "<Model e_coli_core at 0x7f888ca27eb0>"
      ]
     },
     "metadata": {},
     "output_type": "display_data"
    },
    {
     "data": {
      "text/html": [
       "\n",
       "        <table>\n",
       "            <tr>\n",
       "                <td><strong>Name</strong></td>\n",
       "                <td>iML1515</td>\n",
       "            </tr><tr>\n",
       "                <td><strong>Memory address</strong></td>\n",
       "                <td>0x07f8874e98490</td>\n",
       "            </tr><tr>\n",
       "                <td><strong>Number of metabolites</strong></td>\n",
       "                <td>1877</td>\n",
       "            </tr><tr>\n",
       "                <td><strong>Number of reactions</strong></td>\n",
       "                <td>2712</td>\n",
       "            </tr><tr>\n",
       "                <td><strong>Number of groups</strong></td>\n",
       "                <td>0</td>\n",
       "            </tr><tr>\n",
       "                <td><strong>Objective expression</strong></td>\n",
       "                <td>1.0*BIOMASS_Ec_iML1515_core_75p37M - 1.0*BIOMASS_Ec_iML1515_core_75p37M_reverse_35685</td>\n",
       "            </tr><tr>\n",
       "                <td><strong>Compartments</strong></td>\n",
       "                <td>cytosol, extracellular space, periplasm</td>\n",
       "            </tr>\n",
       "          </table>"
      ],
      "text/plain": [
       "<Model iML1515 at 0x7f8874e98490>"
      ]
     },
     "metadata": {},
     "output_type": "display_data"
    }
   ],
   "source": [
    "modelCore = cobra.io.load_json_model('../models/e_coli_core.json')\n",
    "display(modelCore)\n",
    "modeliML = cobra.io.load_json_model('../models/iML1515.json')\n",
    "display(modeliML)"
   ]
  },
  {
   "cell_type": "code",
   "execution_count": 5,
   "metadata": {},
   "outputs": [],
   "source": [
    "metReactions = [\n",
    "    {\n",
    "        'id':'ACLS',\n",
    "        'Name': 'Acetolactate synthase',\n",
    "        'Metabolites': {\n",
    "            'h_c':-1,\n",
    "            'pyr_c': -2,\n",
    "            'alac__S_c':1,\n",
    "            'co2_c': 1\n",
    "        },\n",
    "        'gene_reaction_rule':'(ilvG or ilvH)'\n",
    "    },\n",
    "    {\n",
    "        'id':'ACLDC',\n",
    "        'Name': 'Acetolactate decarboxylase',\n",
    "        'Metabolites': {\n",
    "            'alac__S_c':-1,\n",
    "            'h_c': -1,\n",
    "            'actn__R_c':1,\n",
    "            'co2_c': 1\n",
    "        },\n",
    "        'gene_reaction_rule':'(budA)'\n",
    "        \n",
    "    }, \n",
    "    {\n",
    "        'id':'BTD_RR',\n",
    "        'Name': 'R R butanediol dehydrogenase',\n",
    "        'Metabolites': {\n",
    "            'btd_RR_c':1,\n",
    "            'nad_c': 1,\n",
    "            'actn__R_c':-1,\n",
    "            'h_c': -1, \n",
    "            'nadh_c':-1\n",
    "        },\n",
    "        'gene_reaction_rule':'(adh or bdhA)'\n",
    "    }, \n",
    "    {\n",
    "        'id':'BTDt_RR', \n",
    "        'Name': 'R R  butanediol transport',\n",
    "        'Metabolites': {\n",
    "            'btd_RR_c':-1,\n",
    "            'btd_RR_e': 1\n",
    "        },\n",
    "        'gene_reaction_rule':''\n",
    "    },\n",
    "    {\n",
    "        'id':'EX_btd_RR_e', \n",
    "        'Name': 'R R  2 3 Butanediol exchange',\n",
    "        'Metabolites': {\n",
    "            'btd_RR_e':-1\n",
    "        },\n",
    "        'gene_reaction_rule':''\n",
    "        \n",
    "    }\n",
    "]"
   ]
  },
  {
   "cell_type": "code",
   "execution_count": 6,
   "metadata": {},
   "outputs": [],
   "source": [
    "def check_reactions(model, metReactions):\n",
    "    rxExist = []\n",
    "    rxNexist = []\n",
    "    for rx in metReactions:\n",
    "        try: \n",
    "            model.reactions.get_by_id(rx['id'])\n",
    "            rxExist.append(rx)\n",
    "        except KeyError as e: \n",
    "            rxNexist.append(rx)\n",
    "\n",
    "    print('Las reacciones que están:', rxExist)\n",
    "    print('Las reacciones que no están:', rxNexist)\n",
    "    \n",
    "    return rxExist, rxNexist"
   ]
  },
  {
   "cell_type": "code",
   "execution_count": 7,
   "metadata": {},
   "outputs": [
    {
     "name": "stdout",
     "output_type": "stream",
     "text": [
      "Las reacciones que están: []\n",
      "Las reacciones que no están: [{'id': 'ACLS', 'Name': 'Acetolactate synthase', 'Metabolites': {'h_c': -1, 'pyr_c': -2, 'alac__S_c': 1, 'co2_c': 1}, 'gene_reaction_rule': '(ilvG or ilvH)'}, {'id': 'ACLDC', 'Name': 'Acetolactate decarboxylase', 'Metabolites': {'alac__S_c': -1, 'h_c': -1, 'actn__R_c': 1, 'co2_c': 1}, 'gene_reaction_rule': '(budA)'}, {'id': 'BTD_RR', 'Name': 'R R butanediol dehydrogenase', 'Metabolites': {'btd_RR_c': 1, 'nad_c': 1, 'actn__R_c': -1, 'h_c': -1, 'nadh_c': -1}, 'gene_reaction_rule': '(adh or bdhA)'}, {'id': 'BTDt_RR', 'Name': 'R R  butanediol transport', 'Metabolites': {'btd_RR_c': -1, 'btd_RR_e': 1}, 'gene_reaction_rule': ''}, {'id': 'EX_btd_RR_e', 'Name': 'R R  2 3 Butanediol exchange', 'Metabolites': {'btd_RR_e': -1}, 'gene_reaction_rule': ''}]\n",
      "Las reacciones que están: [{'id': 'ACLS', 'Name': 'Acetolactate synthase', 'Metabolites': {'h_c': -1, 'pyr_c': -2, 'alac__S_c': 1, 'co2_c': 1}, 'gene_reaction_rule': '(ilvG or ilvH)'}]\n",
      "Las reacciones que no están: [{'id': 'ACLDC', 'Name': 'Acetolactate decarboxylase', 'Metabolites': {'alac__S_c': -1, 'h_c': -1, 'actn__R_c': 1, 'co2_c': 1}, 'gene_reaction_rule': '(budA)'}, {'id': 'BTD_RR', 'Name': 'R R butanediol dehydrogenase', 'Metabolites': {'btd_RR_c': 1, 'nad_c': 1, 'actn__R_c': -1, 'h_c': -1, 'nadh_c': -1}, 'gene_reaction_rule': '(adh or bdhA)'}, {'id': 'BTDt_RR', 'Name': 'R R  butanediol transport', 'Metabolites': {'btd_RR_c': -1, 'btd_RR_e': 1}, 'gene_reaction_rule': ''}, {'id': 'EX_btd_RR_e', 'Name': 'R R  2 3 Butanediol exchange', 'Metabolites': {'btd_RR_e': -1}, 'gene_reaction_rule': ''}]\n"
     ]
    }
   ],
   "source": [
    "rxExistCore, rxNexistCore = check_reactions(modelCore,metReactions)\n",
    "rxExistiML, rxNexistiML = check_reactions(modeliML,metReactions)"
   ]
  },
  {
   "cell_type": "code",
   "execution_count": 8,
   "metadata": {},
   "outputs": [],
   "source": [
    "metMetabolites = [\n",
    "    {\n",
    "        'id': 'h_c',\n",
    "        'formula': 'H',\n",
    "        'name': 'H+',\n",
    "        'compartment': 'c'\n",
    "    },\n",
    "    {\n",
    "        'id': 'pyr_c',\n",
    "        'formula': 'C3H3O3',\n",
    "        'name': 'Pyruvate',\n",
    "        'compartment': 'c'\n",
    "    },\n",
    "    {\n",
    "        'id': 'alac__S_c',\n",
    "        'formula': 'C5H8O4',\n",
    "        'name': '(S)-2-Acetolactate',\n",
    "        'compartment': 'c'\n",
    "    },\n",
    "    {\n",
    "        'id': 'co2_c',\n",
    "        'formula': 'CO2',\n",
    "        'name': 'CO2 CO2',\n",
    "        'compartment': 'c'\n",
    "    },\n",
    "    {\n",
    "        'id': 'actn__R_c',\n",
    "        'formula': 'C4H8O2',\n",
    "        'name': 'R  Acetoin',\n",
    "        'compartment': 'c'\n",
    "    },\n",
    "    {\n",
    "        'id': 'btd_RR_c',\n",
    "        'formula': 'C4H10O2',\n",
    "        'name': 'R R  2 3 Butanediol',\n",
    "        'compartment': 'c'\n",
    "    },\n",
    "    {\n",
    "        'id': 'nadh_c',\n",
    "        'formula': 'C21H27N7O14P2',\n",
    "        'name': 'Nicotinamide adenine dinucleotide - reduced',\n",
    "        'compartment': 'c'\n",
    "    },\n",
    "    {\n",
    "        'id': 'nad_c',\n",
    "        'formula': 'C21H26N7O14P2',\n",
    "        'name': 'Nicotinamide adenine dinucleotide',\n",
    "        'compartment': 'c'\n",
    "    },\n",
    "    {\n",
    "        'id': 'btd_RR_e',\n",
    "        'formula': 'C4H10O2',\n",
    "        'name': 'R R  2 3 Butanediol',\n",
    "        'compartment': 'e'\n",
    "    }\n",
    "]"
   ]
  },
  {
   "cell_type": "code",
   "execution_count": 9,
   "metadata": {},
   "outputs": [],
   "source": [
    "def check_metabolites(model, metMetabolites):\n",
    "    metExist = []\n",
    "    metNexist = []\n",
    "\n",
    "    for met in metMetabolites:\n",
    "        try: \n",
    "            model.metabolites.get_by_id(met['id'])\n",
    "            metExist.append(met)\n",
    "        except KeyError as e: \n",
    "            metNexist.append(met)\n",
    "\n",
    "    print('Los metabolitos que están:', metExist)\n",
    "    print('Los metabolitos que no están:', metNexist) \n",
    "    return metExist, metNexist"
   ]
  },
  {
   "cell_type": "code",
   "execution_count": 10,
   "metadata": {},
   "outputs": [
    {
     "name": "stdout",
     "output_type": "stream",
     "text": [
      "Los metabolitos que están: [{'id': 'h_c', 'formula': 'H', 'name': 'H+', 'compartment': 'c'}, {'id': 'pyr_c', 'formula': 'C3H3O3', 'name': 'Pyruvate', 'compartment': 'c'}, {'id': 'co2_c', 'formula': 'CO2', 'name': 'CO2 CO2', 'compartment': 'c'}, {'id': 'nadh_c', 'formula': 'C21H27N7O14P2', 'name': 'Nicotinamide adenine dinucleotide - reduced', 'compartment': 'c'}, {'id': 'nad_c', 'formula': 'C21H26N7O14P2', 'name': 'Nicotinamide adenine dinucleotide', 'compartment': 'c'}]\n",
      "Los metabolitos que no están: [{'id': 'alac__S_c', 'formula': 'C5H8O4', 'name': '(S)-2-Acetolactate', 'compartment': 'c'}, {'id': 'actn__R_c', 'formula': 'C4H8O2', 'name': 'R  Acetoin', 'compartment': 'c'}, {'id': 'btd_RR_c', 'formula': 'C4H10O2', 'name': 'R R  2 3 Butanediol', 'compartment': 'c'}, {'id': 'btd_RR_e', 'formula': 'C4H10O2', 'name': 'R R  2 3 Butanediol', 'compartment': 'e'}]\n",
      "Los metabolitos que están: [{'id': 'h_c', 'formula': 'H', 'name': 'H+', 'compartment': 'c'}, {'id': 'pyr_c', 'formula': 'C3H3O3', 'name': 'Pyruvate', 'compartment': 'c'}, {'id': 'alac__S_c', 'formula': 'C5H8O4', 'name': '(S)-2-Acetolactate', 'compartment': 'c'}, {'id': 'co2_c', 'formula': 'CO2', 'name': 'CO2 CO2', 'compartment': 'c'}, {'id': 'nadh_c', 'formula': 'C21H27N7O14P2', 'name': 'Nicotinamide adenine dinucleotide - reduced', 'compartment': 'c'}, {'id': 'nad_c', 'formula': 'C21H26N7O14P2', 'name': 'Nicotinamide adenine dinucleotide', 'compartment': 'c'}]\n",
      "Los metabolitos que no están: [{'id': 'actn__R_c', 'formula': 'C4H8O2', 'name': 'R  Acetoin', 'compartment': 'c'}, {'id': 'btd_RR_c', 'formula': 'C4H10O2', 'name': 'R R  2 3 Butanediol', 'compartment': 'c'}, {'id': 'btd_RR_e', 'formula': 'C4H10O2', 'name': 'R R  2 3 Butanediol', 'compartment': 'e'}]\n"
     ]
    }
   ],
   "source": [
    "metExistCore, metNexistCore = check_metabolites(modelCore, metMetabolites)\n",
    "metExistiML, metNexistiML = check_metabolites(modeliML, metMetabolites)"
   ]
  },
  {
   "cell_type": "code",
   "execution_count": 11,
   "metadata": {},
   "outputs": [],
   "source": [
    "def metabolites_to_add(metNexist):\n",
    "    met_to_add = []\n",
    "    for met in metNexist:\n",
    "        m = Metabolite(id=met['id'], formula=met['formula'], name=met['name'], compartment=met['compartment'])\n",
    "        met_to_add.append(m)\n",
    "    print(met_to_add)\n",
    "    return met_to_add"
   ]
  },
  {
   "cell_type": "code",
   "execution_count": 12,
   "metadata": {},
   "outputs": [
    {
     "name": "stdout",
     "output_type": "stream",
     "text": [
      "[<Metabolite alac__S_c at 0x7f8870816250>, <Metabolite actn__R_c at 0x7f88708169a0>, <Metabolite btd_RR_c at 0x7f8870816c70>, <Metabolite btd_RR_e at 0x7f8870816bb0>]\n",
      "[<Metabolite actn__R_c at 0x7f88708165e0>, <Metabolite btd_RR_c at 0x7f8870816640>, <Metabolite btd_RR_e at 0x7f8870816850>]\n"
     ]
    }
   ],
   "source": [
    "met_to_add_core = metabolites_to_add(metNexistCore)\n",
    "met_to_add_iML = metabolites_to_add(metNexistiML)"
   ]
  },
  {
   "cell_type": "code",
   "execution_count": 13,
   "metadata": {},
   "outputs": [],
   "source": [
    "modelCore.add_metabolites(met_to_add_core)\n",
    "modeliML.add_metabolites(met_to_add_iML)"
   ]
  },
  {
   "cell_type": "code",
   "execution_count": 14,
   "metadata": {},
   "outputs": [],
   "source": [
    "def reactions_to_add(model, rxNexist):\n",
    "    rxs_to_add = []\n",
    "    for rx in rxNexist:\n",
    "        x = Reaction(id=rx['id'], name=rx['Name'], lower_bound=-1000.0)\n",
    "        if(len(rx['gene_reaction_rule'])>0):\n",
    "            print('esto es:', rx['gene_reaction_rule'])\n",
    "            x.gene_reaction_rule = rx['gene_reaction_rule']\n",
    "        rxs_to_add.append(x)\n",
    "        model.add_reactions([x])\n",
    "        x.add_metabolites(rx['Metabolites'])\n",
    "    print('reactions added: ',rxs_to_add)\n",
    "    print('\\n')"
   ]
  },
  {
   "cell_type": "code",
   "execution_count": 15,
   "metadata": {
    "collapsed": true
   },
   "outputs": [
    {
     "name": "stdout",
     "output_type": "stream",
     "text": [
      "esto es: (ilvG or ilvH)\n",
      "esto es: (budA)\n",
      "esto es: (adh or bdhA)\n",
      "reactions added:  [<Reaction ACLS at 0x7f88848f7a00>, <Reaction ACLDC at 0x7f88848f7040>, <Reaction BTD_RR at 0x7f8870816a30>, <Reaction BTDt_RR at 0x7f887051ffd0>, <Reaction EX_btd_RR_e at 0x7f8876745be0>]\n",
      "\n",
      "\n",
      "esto es: (budA)\n",
      "esto es: (adh or bdhA)\n",
      "reactions added:  [<Reaction ACLDC at 0x7f88848f7880>, <Reaction BTD_RR at 0x7f88848f7850>, <Reaction BTDt_RR at 0x7f88848f76d0>, <Reaction EX_btd_RR_e at 0x7f88848f7370>]\n",
      "\n",
      "\n"
     ]
    }
   ],
   "source": [
    "reactions_to_add(modelCore, rxNexistCore)\n",
    "reactions_to_add(modeliML, rxNexistiML)"
   ]
  },
  {
   "cell_type": "code",
   "execution_count": 20,
   "metadata": {},
   "outputs": [],
   "source": [
    "modelCore.reactions.EX_btd_RR_e.lower_bound = 0\n",
    "modelCore.reactions.ACLS.lower_bound = 0\n",
    "modelCore.reactions.ACLDC.lower_bound = 0\n",
    "modelCore.reactions.BTD_RR.lower_bound = 0\n",
    "modelCore.reactions.BTDt_RR.lower_bound = 0\n",
    "\n",
    "modeliML.reactions.EX_btd_RR_e.lower_bound = 0\n",
    "modeliML.reactions.ACLS.lower_bound = 0\n",
    "modeliML.reactions.ACLDC.lower_bound = 0\n",
    "modeliML.reactions.BTD_RR.lower_bound = 0\n",
    "modeliML.reactions.BTDt_RR.lower_bound = 0"
   ]
  },
  {
   "cell_type": "code",
   "execution_count": 22,
   "metadata": {},
   "outputs": [],
   "source": [
    "def modify_medium(model,met, value):\n",
    "    modelA = model.copy()\n",
    "    medium = model.medium\n",
    "    medium[met] = value\n",
    "    modelA.medium = medium\n",
    "    return modelA"
   ]
  },
  {
   "cell_type": "code",
   "execution_count": 23,
   "metadata": {},
   "outputs": [
    {
     "name": "stdout",
     "output_type": "stream",
     "text": [
      "Read LP format model from file /var/folders/v5/zrtrnkbn4vz0f42d5z7lj2jh0000gn/T/tmpgausvjoh.lp\n",
      "Reading time = 0.05 seconds\n",
      ": 1880 rows, 5432 columns, 21174 nonzeros\n",
      "Read LP format model from file /var/folders/v5/zrtrnkbn4vz0f42d5z7lj2jh0000gn/T/tmp9f67vcek.lp\n",
      "Reading time = 0.00 seconds\n",
      ": 76 rows, 200 columns, 752 nonzeros\n"
     ]
    }
   ],
   "source": [
    "modeliMLA = modify_medium(modeliML, 'EX_o2_e', 0)\n",
    "modelCoreA = modify_medium(modelCore, 'EX_o2_e', 0)"
   ]
  },
  {
   "cell_type": "code",
   "execution_count": 24,
   "metadata": {},
   "outputs": [],
   "source": [
    "write_sbml_model(modelCore, \"models/modelCore.xml\")\n",
    "write_sbml_model(modelCoreA, \"models/modelCoreA.xml\")\n",
    "write_sbml_model(modeliML, \"models/modeliML.xml\")\n",
    "write_sbml_model(modeliMLA, \"models/modeliMLA.xml\")"
   ]
  },
  {
   "cell_type": "code",
   "execution_count": 25,
   "metadata": {
    "scrolled": true
   },
   "outputs": [
    {
     "data": {
      "text/html": [
       "\n",
       "        <table>\n",
       "            <tr>\n",
       "                <td><strong>Name</strong></td>\n",
       "                <td>e_coli_core</td>\n",
       "            </tr><tr>\n",
       "                <td><strong>Memory address</strong></td>\n",
       "                <td>0x07f888ca27eb0</td>\n",
       "            </tr><tr>\n",
       "                <td><strong>Number of metabolites</strong></td>\n",
       "                <td>76</td>\n",
       "            </tr><tr>\n",
       "                <td><strong>Number of reactions</strong></td>\n",
       "                <td>100</td>\n",
       "            </tr><tr>\n",
       "                <td><strong>Number of groups</strong></td>\n",
       "                <td>0</td>\n",
       "            </tr><tr>\n",
       "                <td><strong>Objective expression</strong></td>\n",
       "                <td>1.0*BIOMASS_Ecoli_core_w_GAM - 1.0*BIOMASS_Ecoli_core_w_GAM_reverse_712e5</td>\n",
       "            </tr><tr>\n",
       "                <td><strong>Compartments</strong></td>\n",
       "                <td>extracellular space, cytosol</td>\n",
       "            </tr>\n",
       "          </table>"
      ],
      "text/plain": [
       "<Model e_coli_core at 0x7f888ca27eb0>"
      ]
     },
     "metadata": {},
     "output_type": "display_data"
    },
    {
     "data": {
      "text/html": [
       "\n",
       "        <table>\n",
       "            <tr>\n",
       "                <td><strong>Name</strong></td>\n",
       "                <td>e_coli_core</td>\n",
       "            </tr><tr>\n",
       "                <td><strong>Memory address</strong></td>\n",
       "                <td>0x07f887733e820</td>\n",
       "            </tr><tr>\n",
       "                <td><strong>Number of metabolites</strong></td>\n",
       "                <td>76</td>\n",
       "            </tr><tr>\n",
       "                <td><strong>Number of reactions</strong></td>\n",
       "                <td>100</td>\n",
       "            </tr><tr>\n",
       "                <td><strong>Number of groups</strong></td>\n",
       "                <td>0</td>\n",
       "            </tr><tr>\n",
       "                <td><strong>Objective expression</strong></td>\n",
       "                <td>1.0*BIOMASS_Ecoli_core_w_GAM - 1.0*BIOMASS_Ecoli_core_w_GAM_reverse_712e5</td>\n",
       "            </tr><tr>\n",
       "                <td><strong>Compartments</strong></td>\n",
       "                <td>extracellular space, cytosol</td>\n",
       "            </tr>\n",
       "          </table>"
      ],
      "text/plain": [
       "<Model e_coli_core at 0x7f887733e820>"
      ]
     },
     "metadata": {},
     "output_type": "display_data"
    },
    {
     "data": {
      "text/html": [
       "\n",
       "        <table>\n",
       "            <tr>\n",
       "                <td><strong>Name</strong></td>\n",
       "                <td>iML1515</td>\n",
       "            </tr><tr>\n",
       "                <td><strong>Memory address</strong></td>\n",
       "                <td>0x07f8874e98490</td>\n",
       "            </tr><tr>\n",
       "                <td><strong>Number of metabolites</strong></td>\n",
       "                <td>1880</td>\n",
       "            </tr><tr>\n",
       "                <td><strong>Number of reactions</strong></td>\n",
       "                <td>2716</td>\n",
       "            </tr><tr>\n",
       "                <td><strong>Number of groups</strong></td>\n",
       "                <td>0</td>\n",
       "            </tr><tr>\n",
       "                <td><strong>Objective expression</strong></td>\n",
       "                <td>1.0*BIOMASS_Ec_iML1515_core_75p37M - 1.0*BIOMASS_Ec_iML1515_core_75p37M_reverse_35685</td>\n",
       "            </tr><tr>\n",
       "                <td><strong>Compartments</strong></td>\n",
       "                <td>cytosol, extracellular space, periplasm</td>\n",
       "            </tr>\n",
       "          </table>"
      ],
      "text/plain": [
       "<Model iML1515 at 0x7f8874e98490>"
      ]
     },
     "metadata": {},
     "output_type": "display_data"
    },
    {
     "data": {
      "text/html": [
       "\n",
       "        <table>\n",
       "            <tr>\n",
       "                <td><strong>Name</strong></td>\n",
       "                <td>iML1515</td>\n",
       "            </tr><tr>\n",
       "                <td><strong>Memory address</strong></td>\n",
       "                <td>0x07f887733ebe0</td>\n",
       "            </tr><tr>\n",
       "                <td><strong>Number of metabolites</strong></td>\n",
       "                <td>1880</td>\n",
       "            </tr><tr>\n",
       "                <td><strong>Number of reactions</strong></td>\n",
       "                <td>2716</td>\n",
       "            </tr><tr>\n",
       "                <td><strong>Number of groups</strong></td>\n",
       "                <td>0</td>\n",
       "            </tr><tr>\n",
       "                <td><strong>Objective expression</strong></td>\n",
       "                <td>1.0*BIOMASS_Ec_iML1515_core_75p37M - 1.0*BIOMASS_Ec_iML1515_core_75p37M_reverse_35685</td>\n",
       "            </tr><tr>\n",
       "                <td><strong>Compartments</strong></td>\n",
       "                <td>cytosol, extracellular space, periplasm</td>\n",
       "            </tr>\n",
       "          </table>"
      ],
      "text/plain": [
       "<Model iML1515 at 0x7f887733ebe0>"
      ]
     },
     "metadata": {},
     "output_type": "display_data"
    }
   ],
   "source": [
    "display(modelCore)\n",
    "display(modelCoreA)\n",
    "display(modeliML)\n",
    "display(modeliMLA)"
   ]
  },
  {
   "cell_type": "code",
   "execution_count": null,
   "metadata": {},
   "outputs": [],
   "source": [
    "metReactions = [\n",
    "    {\n",
    "        'id':'id de la reacción segun BiGG',\n",
    "        'Name': 'Nombre reacción',\n",
    "        'Metabolites': {\n",
    "            'A':-1,\n",
    "            'B': -2,\n",
    "            'C':1,\n",
    "            'D': 1\n",
    "        },\n",
    "    }]"
   ]
  }
 ],
 "metadata": {
  "kernelspec": {
   "display_name": "Python 3",
   "language": "python",
   "name": "python3"
  },
  "language_info": {
   "codemirror_mode": {
    "name": "ipython",
    "version": 3
   },
   "file_extension": ".py",
   "mimetype": "text/x-python",
   "name": "python",
   "nbconvert_exporter": "python",
   "pygments_lexer": "ipython3",
   "version": "3.8.5"
  }
 },
 "nbformat": 4,
 "nbformat_minor": 4
}
