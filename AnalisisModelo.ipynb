{
 "cells": [
  {
   "cell_type": "markdown",
   "metadata": {},
   "source": [
    "# 1. Importar las bibliotecas a utilizar:"
   ]
  },
  {
   "cell_type": "code",
   "execution_count": null,
   "metadata": {},
   "outputs": [],
   "source": [
    "import cobra  \n",
    "import escher\n",
    "%matplotlib inline\n",
    "pd.options.display.max_rows = 30\n",
    "from cameo.flux_analysis import phenotypic_phase_plane\n",
    "from cameo.visualization.plotting.with_plotly import PlotlyPlotter\n",
    "from cobra.flux_analysis import flux_variability_analysis\n",
    "import matplotlib.pyplot as plt\n",
    "plt.style.use('ggplot')\n",
    "import plotly.graph_objs as go\n",
    "from plotly.offline import init_notebook_mode, iplot\n",
    "init_notebook_mode(connected=True)\n",
    "from IPython.display import display\n",
    "import gurobipy\n",
    "from cobra.io import read_sbml_model\n",
    "from cameo.strain_design.heuristic.evolutionary_based import OptGene\n",
    "plotter = PlotlyPlotter()"
   ]
  },
  {
   "cell_type": "markdown",
   "metadata": {},
   "source": [
    "# 2. Cargar modelos"
   ]
  },
  {
   "cell_type": "code",
   "execution_count": null,
   "metadata": {},
   "outputs": [],
   "source": [
    "modelCore = read_sbml_model('./models/modelCore_clean.xml')\n",
    "modelCoreA = read_sbml_model('./models/modelCoreA_clean.xml')\n",
    "modeliML = read_sbml_model('./models/modeliML_clean.xml')\n",
    "modeliMLA = read_sbml_model('./models/modeliMLA_clean.xml')"
   ]
  },
  {
   "cell_type": "markdown",
   "metadata": {},
   "source": [
    "Puedo ver un resumen de los modelos y el resultado de FBA utilizando la función summary():"
   ]
  },
  {
   "cell_type": "code",
   "execution_count": null,
   "metadata": {},
   "outputs": [],
   "source": [
    "display(modelCore.summary())\n",
    "display(modelCoreA.summary())\n",
    "display(modeliML.summary())\n",
    "display(modeliMLA.summary())"
   ]
  },
  {
   "cell_type": "markdown",
   "metadata": {},
   "source": [
    "Defino una función que calcula el FBA de los modelos, la tasa de crecimiento, el flujo del compuesto, el flujo de glucos y el rendimiento del compuesto:"
   ]
  },
  {
   "cell_type": "code",
   "execution_count": null,
   "metadata": {},
   "outputs": [],
   "source": [
    "def fba(model, obj, comp):\n",
    "    solution = model.optimize()\n",
    "    growthRate = solution.fluxes[obj]\n",
    "    compFlux = solution.fluxes[comp] \n",
    "    gluFlux = solution.fluxes['EX_glc__D_e']\n",
    "    yieldComp = compFlux/(-1*gluFlux)\n",
    "    return growthRate, compFlux, yieldComp"
   ]
  },
  {
   "cell_type": "markdown",
   "metadata": {},
   "source": [
    "Defino funcion que calcula FVA para revisar el flujo máximo y mínimo posible de las reacciones que forman parte de la ruta sintetizadora del compuesto de interés:"
   ]
  },
  {
   "cell_type": "code",
   "execution_count": null,
   "metadata": {},
   "outputs": [],
   "source": [
    "def fvaReactions(model, rx, FoP):\n",
    "    reactions = []\n",
    "    for x in rx:\n",
    "        reactions.append(getattr(model.reactions, x))\n",
    "    if(FoP == None):\n",
    "        fva = flux_variability_analysis(model, reaction_list = reactions)\n",
    "        return fva\n",
    "    else:\n",
    "        fva = flux_variability_analysis(model, reaction_list = reactions, fraction_of_optimum=FoP)\n",
    "        return fva"
   ]
  },
  {
   "cell_type": "markdown",
   "metadata": {},
   "source": [
    "Obtengo FBA:"
   ]
  },
  {
   "cell_type": "code",
   "execution_count": null,
   "metadata": {},
   "outputs": [],
   "source": [
    "# fba(modelCore,'BIOMASS_Ecoli_core_w_GAM' , 'EX_btd_RR_e')\n",
    "fba(modelCoreA,'BIOMASS_Ecoli_core_w_GAM' , 'EX_btd_RR_e')\n",
    "fba(modeliML,'BIOMASS_Ec_iML1515_core_75p37M' , 'EX_btd_RR_e')\n",
    "fba(modeliMLA,'BIOMASS_Ec_iML1515_core_75p37M' , 'EX_btd_RR_e')"
   ]
  },
  {
   "cell_type": "markdown",
   "metadata": {},
   "source": [
    "Defino una lista con las reacciones que forman parte de la síntesis del compuesto:"
   ]
  },
  {
   "cell_type": "code",
   "execution_count": null,
   "metadata": {},
   "outputs": [],
   "source": [
    "rx_bd = ['ACLS', 'ACLDC', 'BTD_RR', 'BTDt_RR', 'EX_btd_RR_e']"
   ]
  },
  {
   "cell_type": "markdown",
   "metadata": {},
   "source": [
    "Calculo FVA de esas reacciones:"
   ]
  },
  {
   "cell_type": "code",
   "execution_count": null,
   "metadata": {},
   "outputs": [],
   "source": [
    "fvaCore = fvaReactions(modelCore, rx_bd, 0.9)\n",
    "fvaCoreA = fvaReactions(modelCoreA, rx_bd, 0.9)\n",
    "fvaiML = fvaReactions(modeliML, rx_bd, 0.9)\n",
    "fvaiMLA = fvaReactions(modeliMLA, rx_bd, 0.9)"
   ]
  },
  {
   "cell_type": "markdown",
   "metadata": {},
   "source": [
    "Defino una función que modifica el límite inferior de las reacciones:"
   ]
  },
  {
   "cell_type": "code",
   "execution_count": null,
   "metadata": {},
   "outputs": [],
   "source": [
    "def lower_bound(model, fva, reaction):\n",
    "    print('##########################################')\n",
    "    for x in reaction:\n",
    "        rx = getattr(model.reactions, x)\n",
    "        maxVal = getattr(fva.maximum, x)\n",
    "        print(x, maxVal)\n",
    "        rx.lower_bound = maxVal"
   ]
  },
  {
   "cell_type": "code",
   "execution_count": null,
   "metadata": {},
   "outputs": [],
   "source": [
    "lower_bound(modelCore, fvaCore, rx_bd)\n",
    "lower_bound(modelCoreA, fvaCoreA, rx_bd)\n",
    "lower_bound(modeliML, fvaiML, rx_bd)\n",
    "lower_bound(modeliMLA, fvaiMLA, rx_bd)"
   ]
  },
  {
   "cell_type": "markdown",
   "metadata": {},
   "source": [
    "Defino una función que calcula el análisis de plano de fase fenotípica:"
   ]
  },
  {
   "cell_type": "code",
   "execution_count": null,
   "metadata": {},
   "outputs": [],
   "source": [
    "def ppp(model, biomass, target):\n",
    "    pppsol = phenotypic_phase_plane(model, variables=[biomass], objective=target)\n",
    "    return pppsol"
   ]
  },
  {
   "cell_type": "code",
   "execution_count": null,
   "metadata": {},
   "outputs": [],
   "source": [
    "pppCore = ppp(modelCore, modelCore.reactions.BIOMASS_Ecoli_core_w_GAM, modelCore.reactions.EX_btd_RR_e)\n",
    "display(pppCore.data_frame)\n",
    "display(pppCore.plot(plotter))"
   ]
  },
  {
   "cell_type": "markdown",
   "metadata": {},
   "source": [
    "Exporto los modelos analizados:"
   ]
  },
  {
   "cell_type": "code",
   "execution_count": null,
   "metadata": {},
   "outputs": [],
   "source": [
    "from cobra.io import save_json_model\n",
    "save_json_model(modelCoreA, \"models/modelCoreA_bound.json\")\n",
    "save_json_model(modelCore, \"models/modelCore_bound.json\")\n",
    "save_json_model(modeliML, \"models/modeliML_bound.json\")\n",
    "save_json_model(modeliMLA, \"models/modeliMLA_bound.json\")"
   ]
  }
 ],
 "metadata": {
  "kernelspec": {
   "display_name": "Python 3",
   "language": "python",
   "name": "python3"
  },
  "language_info": {
   "codemirror_mode": {
    "name": "ipython",
    "version": 3
   },
   "file_extension": ".py",
   "mimetype": "text/x-python",
   "name": "python",
   "nbconvert_exporter": "python",
   "pygments_lexer": "ipython3",
   "version": "3.8.5"
  }
 },
 "nbformat": 4,
 "nbformat_minor": 4
}
