{
 "cells": [
  {
   "cell_type": "markdown",
   "metadata": {},
   "source": [
    "# 1. Importar las bibliotecas a utilizar:\n"
   ]
  },
  {
   "cell_type": "code",
   "execution_count": null,
   "metadata": {},
   "outputs": [],
   "source": [
    "import escher\n",
    "%matplotlib inline\n",
    "import cobra  \n",
    "from cobra.io import load_json_model\n",
    "import matplotlib.pyplot as plt\n",
    "plt.style.use('ggplot')\n",
    "import plotly.graph_objs as go\n",
    "from plotly.offline import init_notebook_mode, iplot\n",
    "init_notebook_mode(connected=True)\n",
    "from IPython.display import display\n",
    "import gurobipy\n",
    "from cameo.strain_design.heuristic.evolutionary_based import OptGene\n",
    "from cameo.visualization.plotting.with_plotly import PlotlyPlotter\n",
    "plotter = PlotlyPlotter()"
   ]
  },
  {
   "cell_type": "markdown",
   "metadata": {},
   "source": [
    "# 2. Cargar Modelos"
   ]
  },
  {
   "cell_type": "code",
   "execution_count": null,
   "metadata": {},
   "outputs": [],
   "source": [
    "modelCoreA = cobra.io.load_json_model(\"./models/modelCoreA_bound.json\")\n",
    "modelCore = cobra.io.load_json_model(\"./models/modelCore_bound.json\")\n",
    "modeliML = cobra.io.load_json_model(\"./models/modeliML_bound.json\")\n",
    "modeliMLA = cobra.io.load_json_model(\"./models/modeliMLA_bound.json\")"
   ]
  },
  {
   "cell_type": "markdown",
   "metadata": {},
   "source": [
    "# 3. Metodos de Optimización"
   ]
  },
  {
   "cell_type": "markdown",
   "metadata": {},
   "source": [
    "Para utilizar OptGene se deben definir el objeto de OptGene con el modelo respectivo:"
   ]
  },
  {
   "cell_type": "code",
   "execution_count": null,
   "metadata": {},
   "outputs": [],
   "source": [
    "optgeneCore = OptGene(modelCore)\n",
    "optgeneCoreA = OptGene(modelCoreA)\n",
    "optgeneiML = OptGene(modeliML)\n",
    "optgeneiMLA = OptGene(modeliMLA)"
   ]
  },
  {
   "cell_type": "markdown",
   "metadata": {},
   "source": [
    "Creo una función que evalua OptGene con diferentes parámetros en cuanto a número de evaluaciones y máxima cantidad de knockouts de reacciones: "
   ]
  },
  {
   "cell_type": "code",
   "execution_count": null,
   "metadata": {},
   "outputs": [],
   "source": [
    "def OptGeneIterations(model):\n",
    "    print('modelo:', model)\n",
    "    maxEval = [10,100,1000,10000,20000]\n",
    "    maxKO = [1,2,3,4,5,6]\n",
    "    listResults = []\n",
    "    for ko in maxKO:\n",
    "        for ev in maxEval:\n",
    "            if(model == 'core'):\n",
    "                \n",
    "                resultCore = optgeneCore.run(target=\"EX_btd_RR_e\", biomass=\"BIOMASS_Ecoli_core_w_GAM\",\n",
    "                              substrate=\"glc__D_e\",\n",
    "                              max_evaluations=ev, max_knockouts=ko,\n",
    "                              plot=False, growth_coupled=True)\n",
    "                \n",
    "                listResults.append(resultCore)\n",
    "            if(model == 'coreA'):\n",
    "                resultCoreA = optgeneCoreA.run(target=\"EX_btd_RR_e\",\n",
    "                              biomass=\"BIOMASS_Ecoli_core_w_GAM\",\n",
    "                              substrate=\"glc__D_e\",\n",
    "                              max_evaluations=ev, max_knockouts=ko,\n",
    "                              plot=False, growth_coupled=True)\n",
    "                listResults.append(resultCoreA)\n",
    "                \n",
    "            if(model == 'iML'):\n",
    "                resultiML = optgeneiML.run(target=\"EX_btd_RR_e\", \n",
    "                             biomass=\"BIOMASS_Ec_iML1515_core_75p37M\",\n",
    "                             substrate=\"glc__D_e\",\n",
    "                             max_evaluations=ev, max_knockouts=ko,\n",
    "                             plot=False, growth_coupled=True)\n",
    "                listResults.append(resultiML)\n",
    "                \n",
    "            if(model == 'iMLA'):\n",
    "                resultiMLA = optgeneiMLA.run(target=\"EX_btd_RR_e\", \n",
    "                             biomass=\"BIOMASS_Ec_iML1515_core_75p37M\",\n",
    "                             substrate=\"glc__D_e\",\n",
    "                             max_evaluations=ev, max_knockouts=ko,\n",
    "                             plot=False, growth_coupled=True)\n",
    "                listResults.append(resultiMLA)\n",
    "    return listResults"
   ]
  },
  {
   "cell_type": "markdown",
   "metadata": {},
   "source": [
    "Defino una función que toma los resultados y lo transforma en una matriz para mejor devolución de los resultados:"
   ]
  },
  {
   "cell_type": "code",
   "execution_count": null,
   "metadata": {},
   "outputs": [],
   "source": [
    "def toMat(listResult):\n",
    "    x = np.array(listResult)\n",
    "    shape = (6,5)\n",
    "    y = x.reshape(shape)\n",
    "    return y\n"
   ]
  },
  {
   "cell_type": "markdown",
   "metadata": {},
   "source": [
    "Defino una función que busca el máximo valor de BPCY para saber cual fue el mejor modelo optimizado:"
   ]
  },
  {
   "cell_type": "code",
   "execution_count": null,
   "metadata": {},
   "outputs": [],
   "source": [
    "def maxFitness(mat):\n",
    "    maxVal = 0\n",
    "    row = 0\n",
    "    col = 0\n",
    "    for i in range(6):\n",
    "        for x in range(5):\n",
    "            fitness = mat[i][x].data_frame['fitness']\n",
    "            if len(fitness) > 0:\n",
    "                maxfit = max(fitness)\n",
    "                if maxfit>maxVal:\n",
    "                    maxVal = maxfit\n",
    "                    row = i\n",
    "                    col = x\n",
    "    return row, col, maxVal"
   ]
  },
  {
   "cell_type": "code",
   "execution_count": null,
   "metadata": {},
   "outputs": [],
   "source": [
    "#### primero se crean las listas\n",
    "listCore = OptGeneIterations('core')\n",
    "listCoreA = OptGeneIterations('coreA')\n",
    "listiML = OptGeneIterations('iML')\n",
    "listiMLA = OptGeneIterations('iMLA')\n",
    "\n",
    "### Se pasan a matriz\n",
    "matCore = toMat(listCore)\n",
    "matCoreA= toMat(listCoreA)\n",
    "matiML = toMat(listiML)\n",
    "matiMLA = toMat(listiMLA)\n",
    "\n",
    "rowC, colC, maxValC = maxFitness(matCore)\n",
    "rowCA, colCA, maxValCA = maxFitness(matCoreA)\n",
    "rowI, colI, maxValI = maxFitness(matiML)\n",
    "rowIA, colIA, maxValIA = maxFitness(matiMLA)"
   ]
  }
 ],
 "metadata": {
  "kernelspec": {
   "display_name": "Python 3",
   "language": "python",
   "name": "python3"
  },
  "language_info": {
   "codemirror_mode": {
    "name": "ipython",
    "version": 3
   },
   "file_extension": ".py",
   "mimetype": "text/x-python",
   "name": "python",
   "nbconvert_exporter": "python",
   "pygments_lexer": "ipython3",
   "version": "3.8.5"
  }
 },
 "nbformat": 4,
 "nbformat_minor": 4
}
