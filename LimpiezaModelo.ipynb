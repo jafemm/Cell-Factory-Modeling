{
 "cells": [
  {
   "cell_type": "markdown",
   "metadata": {},
   "source": [
    "# 1. Importar las bibliotecas a utilizar:"
   ]
  },
  {
   "cell_type": "code",
   "execution_count": null,
   "metadata": {},
   "outputs": [],
   "source": [
    "import cobra \n",
    "from cobra import Reaction, Metabolite\n",
    "from cobra.flux_analysis import flux_variability_analysis\n",
    "from cobra.io import read_sbml_model\n",
    "import gurobipy"
   ]
  },
  {
   "cell_type": "markdown",
   "metadata": {},
   "source": [
    "# 2. Definición de funciones"
   ]
  },
  {
   "cell_type": "markdown",
   "metadata": {},
   "source": [
    "Defino función que calcula FVA:"
   ]
  },
  {
   "cell_type": "code",
   "execution_count": null,
   "metadata": {},
   "outputs": [],
   "source": [
    "def fva_biomass_target(model, target):\n",
    "    fvaBiomass = flux_variability_analysis(model, loopless=True)\n",
    "    fvaTarget = ''\n",
    "    with model:\n",
    "        model.objective = target\n",
    "        fvaTarget = flux_variability_analysis(model, loopless=True)\n",
    "    return fvaBiomass, fvaTarget"
   ]
  },
  {
   "cell_type": "markdown",
   "metadata": {},
   "source": [
    "Defino función clean_model que calcula FVA para el modelo con función objetivo la reacción de biomasa y luego con función objetivo la producción del compuesto. Las reacciones que tengan flujo mayor a cero en ambos caso se mantienen y las que no son las que deben eliminarse:"
   ]
  },
  {
   "cell_type": "code",
   "execution_count": null,
   "metadata": {},
   "outputs": [],
   "source": [
    "def clean_model(model, fvaBiomass, fvaTarget, target):\n",
    "    zeroFluxBiomass = []\n",
    "    for index, row in fvaBiomass.iterrows():\n",
    "        if((row['minimum'] == 0) and (row['maximum'] == 0)):\n",
    "            print(index)\n",
    "            zeroFluxBiomass.append(index)\n",
    "            \n",
    "    zeroFluxTarget = []\n",
    "    for index, row in fvaTarget.iterrows():\n",
    "        if((row['minimum'] == 0) and (row['maximum'] == 0) and (index != target)):\n",
    "            print(index)\n",
    "            zeroFluxTarget.append(index)\n",
    "            \n",
    "    zeroBoth = []\n",
    "    for x in zeroFluxBiomass:\n",
    "        if x in zeroFluxTarget: \n",
    "            zeroBoth.append(x)\n",
    "    return zeroBoth   "
   ]
  },
  {
   "cell_type": "markdown",
   "metadata": {},
   "source": [
    "Defino función que se encargará de eliminar reacciones del modelo:"
   ]
  },
  {
   "cell_type": "code",
   "execution_count": null,
   "metadata": {},
   "outputs": [],
   "source": [
    "def knock_out(model, zeroBoth):\n",
    "    for x in zeroBoth:\n",
    "        if(x != 'ACLDC' or x!= 'ACLS' \n",
    "           or x!='BTD_RR' or x!= 'BTDt_RR' \n",
    "           or x!= 'EX_btd_RR_e'\n",
    "          or x!= 'FRD2'\n",
    "          or x!= 'FRD3'):\n",
    "            getattr(model.reactions, x).delete()\n",
    "        else: \n",
    "            print(x)"
   ]
  },
  {
   "cell_type": "markdown",
   "metadata": {},
   "source": [
    "Importo los modelos creados previamente:"
   ]
  },
  {
   "cell_type": "code",
   "execution_count": null,
   "metadata": {},
   "outputs": [],
   "source": [
    "modelCore = read_sbml_model('./models/modelCore.xml')\n",
    "modelCoreA = read_sbml_model('./models/modelCoreA.xml')\n",
    "modeliML = read_sbml_model('./models/modeliML.xml')\n",
    "modeliMLA = read_sbml_model('./models/modeliMLA.xml')"
   ]
  },
  {
   "cell_type": "markdown",
   "metadata": {},
   "source": [
    "Calculo el FVA con función objetivo biomasa y producción del compeusto:"
   ]
  },
  {
   "cell_type": "code",
   "execution_count": null,
   "metadata": {},
   "outputs": [],
   "source": [
    "fvaBiomassCore, fvaTargetCore = fva_biomass_target(modelCore, 'EX_btd_RR_e')\n",
    "fvaBiomassCoreA, fvaTargetCoreA = fva_biomass_target(modelCoreA, 'EX_btd_RR_e')\n",
    "fvaBiomassiML, fvaTargetiML = fva_biomass_target(modeliML, 'EX_btd_RR_e')\n",
    "fvaBiomassiMLA, fvaTargetiMLA = fva_biomass_target(modeliMLA, 'EX_btd_RR_e')"
   ]
  },
  {
   "cell_type": "markdown",
   "metadata": {},
   "source": [
    "Reviso las reacciones en donde me da cero el flujo en ambos casos:"
   ]
  },
  {
   "cell_type": "code",
   "execution_count": null,
   "metadata": {},
   "outputs": [],
   "source": [
    "ZeroBothCore = clean_model(modelCore, fvaBiomassCore, fvaTargetCore, 'EX_btd_RR_e')\n",
    "ZeroBothCoreA = clean_model(modelCoreA, fvaBiomassCoreA, fvaTargetCoreA, 'EX_btd_RR_e')\n",
    "ZeroBothiML = clean_model(modeliML, fvaBiomassiML, fvaTargetiML, 'EX_btd_RR_e')\n",
    "ZeroBothiMLA = clean_model(modeliMLA, fvaBiomassiMLA, fvaTargetiMLA, 'EX_btd_RR_e')"
   ]
  },
  {
   "cell_type": "markdown",
   "metadata": {},
   "source": [
    "Elimino las reacciones con flujo cero:"
   ]
  },
  {
   "cell_type": "code",
   "execution_count": null,
   "metadata": {},
   "outputs": [],
   "source": [
    "knock_out(modelCore, ZeroBothCore)\n",
    "knock_out(modelCoreA, ZeroBothCoreA)\n",
    "knock_out(modeliML, ZeroBothiML)\n",
    "knock_out(modeliMLA, ZeroBothiMLA)"
   ]
  },
  {
   "cell_type": "markdown",
   "metadata": {},
   "source": [
    "Exporto los nuevos modelos reducidos en reacciones:"
   ]
  },
  {
   "cell_type": "code",
   "execution_count": null,
   "metadata": {},
   "outputs": [],
   "source": [
    "from cobra.io import write_sbml_model\n",
    "write_sbml_model(modelCore, \"models/modelCore_clean.xml\")\n",
    "write_sbml_model(modelCoreA, \"models/modelCoreA_clean.xml\")\n",
    "write_sbml_model(modeliML, \"models/modeliML_clean.xml\")\n",
    "write_sbml_model(modeliMLA, \"models/modeliMLA_clean.xml\")"
   ]
  }
 ],
 "metadata": {
  "kernelspec": {
   "display_name": "Python 3",
   "language": "python",
   "name": "python3"
  },
  "language_info": {
   "codemirror_mode": {
    "name": "ipython",
    "version": 3
   },
   "file_extension": ".py",
   "mimetype": "text/x-python",
   "name": "python",
   "nbconvert_exporter": "python",
   "pygments_lexer": "ipython3",
   "version": "3.8.5"
  }
 },
 "nbformat": 4,
 "nbformat_minor": 4
}
