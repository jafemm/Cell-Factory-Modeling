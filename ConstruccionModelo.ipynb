{
 "cells": [
  {
   "cell_type": "markdown",
   "metadata": {},
   "source": [
    "# 1. Importar las bibliotecas a utilizar:"
   ]
  },
  {
   "cell_type": "code",
   "execution_count": 7,
   "metadata": {},
   "outputs": [],
   "source": [
    "import cobra  \n",
    "%matplotlib inline\n",
    "from cobra import Reaction, Metabolite\n",
    "import gurobipy\n",
    "from cobra.io import read_sbml_model\n",
    "from cobra.io import write_sbml_model"
   ]
  },
  {
   "cell_type": "markdown",
   "metadata": {},
   "source": [
    "# 2. Cargar los Modelos"
   ]
  },
  {
   "cell_type": "markdown",
   "metadata": {},
   "source": [
    "En este caso los modelos se obtuvieron del repositorio Bigg (http://bigg.ucsd.edu) en formato json. Conla función display() puedo obtener un resumen del contenido de los modelos"
   ]
  },
  {
   "cell_type": "code",
   "execution_count": 8,
   "metadata": {},
   "outputs": [
    {
     "name": "stdout",
     "output_type": "stream",
     "text": [
      "Set parameter Username\n",
      "Academic license - for non-commercial use only - expires 2024-01-05\n"
     ]
    },
    {
     "data": {
      "text/html": [
       "\n",
       "        <table>\n",
       "            <tr>\n",
       "                <td><strong>Name</strong></td>\n",
       "                <td>e_coli_core</td>\n",
       "            </tr><tr>\n",
       "                <td><strong>Memory address</strong></td>\n",
       "                <td>0x07faaeb961d30</td>\n",
       "            </tr><tr>\n",
       "                <td><strong>Number of metabolites</strong></td>\n",
       "                <td>72</td>\n",
       "            </tr><tr>\n",
       "                <td><strong>Number of reactions</strong></td>\n",
       "                <td>95</td>\n",
       "            </tr><tr>\n",
       "                <td><strong>Number of groups</strong></td>\n",
       "                <td>0</td>\n",
       "            </tr><tr>\n",
       "                <td><strong>Objective expression</strong></td>\n",
       "                <td>1.0*BIOMASS_Ecoli_core_w_GAM - 1.0*BIOMASS_Ecoli_core_w_GAM_reverse_712e5</td>\n",
       "            </tr><tr>\n",
       "                <td><strong>Compartments</strong></td>\n",
       "                <td>extracellular space, cytosol</td>\n",
       "            </tr>\n",
       "          </table>"
      ],
      "text/plain": [
       "<Model e_coli_core at 0x7faaeb961d30>"
      ]
     },
     "metadata": {},
     "output_type": "display_data"
    },
    {
     "data": {
      "text/html": [
       "\n",
       "        <table>\n",
       "            <tr>\n",
       "                <td><strong>Name</strong></td>\n",
       "                <td>iML1515</td>\n",
       "            </tr><tr>\n",
       "                <td><strong>Memory address</strong></td>\n",
       "                <td>0x07faaf298c370</td>\n",
       "            </tr><tr>\n",
       "                <td><strong>Number of metabolites</strong></td>\n",
       "                <td>1877</td>\n",
       "            </tr><tr>\n",
       "                <td><strong>Number of reactions</strong></td>\n",
       "                <td>2712</td>\n",
       "            </tr><tr>\n",
       "                <td><strong>Number of groups</strong></td>\n",
       "                <td>0</td>\n",
       "            </tr><tr>\n",
       "                <td><strong>Objective expression</strong></td>\n",
       "                <td>1.0*BIOMASS_Ec_iML1515_core_75p37M - 1.0*BIOMASS_Ec_iML1515_core_75p37M_reverse_35685</td>\n",
       "            </tr><tr>\n",
       "                <td><strong>Compartments</strong></td>\n",
       "                <td>cytosol, extracellular space, periplasm</td>\n",
       "            </tr>\n",
       "          </table>"
      ],
      "text/plain": [
       "<Model iML1515 at 0x7faaf298c370>"
      ]
     },
     "metadata": {},
     "output_type": "display_data"
    }
   ],
   "source": [
    "modelCore = cobra.io.load_json_model('../models/e_coli_core.json')\n",
    "display(modelCore)\n",
    "modeliML = cobra.io.load_json_model('../models/iML1515.json')\n",
    "display(modeliML)"
   ]
  },
  {
   "cell_type": "markdown",
   "metadata": {},
   "source": [
    "Se crea una lista de diccionarios que contienen la información y estequiometría de las reacciones:"
   ]
  },
  {
   "cell_type": "code",
   "execution_count": 9,
   "metadata": {},
   "outputs": [],
   "source": [
    "metReactions = [\n",
    "    {\n",
    "        'id':'ACLS',\n",
    "        'Name': 'Acetolactate synthase',\n",
    "        'Metabolites': {\n",
    "            'h_c':-1,\n",
    "            'pyr_c': -2,\n",
    "            'alac__S_c':1,\n",
    "            'co2_c': 1\n",
    "        },\n",
    "        'gene_reaction_rule':'(ilvG or ilvH)'\n",
    "    },\n",
    "    {\n",
    "        'id':'ACLDC',\n",
    "        'Name': 'Acetolactate decarboxylase',\n",
    "        'Metabolites': {\n",
    "            'alac__S_c':-1,\n",
    "            'h_c': -1,\n",
    "            'actn__R_c':1,\n",
    "            'co2_c': 1\n",
    "        },\n",
    "        'gene_reaction_rule':'(budA)'\n",
    "        \n",
    "    }, \n",
    "    {\n",
    "        'id':'BTD_RR',\n",
    "        'Name': 'R R butanediol dehydrogenase',\n",
    "        'Metabolites': {\n",
    "            'btd_RR_c':1,\n",
    "            'nad_c': 1,\n",
    "            'actn__R_c':-1,\n",
    "            'h_c': -1, \n",
    "            'nadh_c':-1\n",
    "        },\n",
    "        'gene_reaction_rule':'(adh or bdhA)'\n",
    "    }, \n",
    "    {\n",
    "        'id':'BTDt_RR', \n",
    "        'Name': 'R R  butanediol transport',\n",
    "        'Metabolites': {\n",
    "            'btd_RR_c':-1,\n",
    "            'btd_RR_e': 1\n",
    "        },\n",
    "        'gene_reaction_rule':''\n",
    "    },\n",
    "    {\n",
    "        'id':'EX_btd_RR_e', \n",
    "        'Name': 'R R  2 3 Butanediol exchange',\n",
    "        'Metabolites': {\n",
    "            'btd_RR_e':-1\n",
    "        },\n",
    "        'gene_reaction_rule':''\n",
    "        \n",
    "    }\n",
    "]"
   ]
  },
  {
   "cell_type": "markdown",
   "metadata": {},
   "source": [
    "Se define una función para revisar si las reacciones existen o no en el modelo:"
   ]
  },
  {
   "cell_type": "code",
   "execution_count": 10,
   "metadata": {},
   "outputs": [],
   "source": [
    "def check_reactions(model, metReactions):\n",
    "    rxExist = []\n",
    "    rxNexist = []\n",
    "    for rx in metReactions:\n",
    "        try: \n",
    "            model.reactions.get_by_id(rx['id'])\n",
    "            rxExist.append(rx)\n",
    "        except KeyError as e: \n",
    "            rxNexist.append(rx)\n",
    "\n",
    "    print('Las reacciones que están:', rxExist)\n",
    "    print('Las reacciones que no están:', rxNexist)\n",
    "    \n",
    "    return rxExist, rxNexist"
   ]
  },
  {
   "cell_type": "markdown",
   "metadata": {},
   "source": [
    "Almaceno las reacciones que si existen y las que no existen en listas diferentes:\n"
   ]
  },
  {
   "cell_type": "code",
   "execution_count": null,
   "metadata": {},
   "outputs": [],
   "source": [
    "rxExistCore, rxNexistCore = check_reactions(modelCore,metReactions)\n",
    "rxExistiML, rxNexistiML = check_reactions(modeliML,metReactions)"
   ]
  },
  {
   "cell_type": "markdown",
   "metadata": {},
   "source": [
    "Ahora defino una lista con diccionarios con las definiciones de los metabolitos que deben ser parte del modelo:"
   ]
  },
  {
   "cell_type": "code",
   "execution_count": null,
   "metadata": {},
   "outputs": [],
   "source": [
    "metMetabolites = [\n",
    "    {\n",
    "        'id': 'h_c',\n",
    "        'formula': 'H',\n",
    "        'name': 'H+',\n",
    "        'compartment': 'c'\n",
    "    },\n",
    "    {\n",
    "        'id': 'pyr_c',\n",
    "        'formula': 'C3H3O3',\n",
    "        'name': 'Pyruvate',\n",
    "        'compartment': 'c'\n",
    "    },\n",
    "    {\n",
    "        'id': 'alac__S_c',\n",
    "        'formula': 'C5H8O4',\n",
    "        'name': '(S)-2-Acetolactate',\n",
    "        'compartment': 'c'\n",
    "    },\n",
    "    {\n",
    "        'id': 'co2_c',\n",
    "        'formula': 'CO2',\n",
    "        'name': 'CO2 CO2',\n",
    "        'compartment': 'c'\n",
    "    },\n",
    "    {\n",
    "        'id': 'actn__R_c',\n",
    "        'formula': 'C4H8O2',\n",
    "        'name': 'R  Acetoin',\n",
    "        'compartment': 'c'\n",
    "    },\n",
    "    {\n",
    "        'id': 'btd_RR_c',\n",
    "        'formula': 'C4H10O2',\n",
    "        'name': 'R R  2 3 Butanediol',\n",
    "        'compartment': 'c'\n",
    "    },\n",
    "    {\n",
    "        'id': 'nadh_c',\n",
    "        'formula': 'C21H27N7O14P2',\n",
    "        'name': 'Nicotinamide adenine dinucleotide - reduced',\n",
    "        'compartment': 'c'\n",
    "    },\n",
    "    {\n",
    "        'id': 'nad_c',\n",
    "        'formula': 'C21H26N7O14P2',\n",
    "        'name': 'Nicotinamide adenine dinucleotide',\n",
    "        'compartment': 'c'\n",
    "    },\n",
    "    {\n",
    "        'id': 'btd_RR_e',\n",
    "        'formula': 'C4H10O2',\n",
    "        'name': 'R R  2 3 Butanediol',\n",
    "        'compartment': 'e'\n",
    "    }\n",
    "]"
   ]
  },
  {
   "cell_type": "markdown",
   "metadata": {},
   "source": [
    "De la misma forma que con las reacciones, creo una función que revisa que metabolitos o no existen en el modelo y luego almaceno esa información sus listas respectivas"
   ]
  },
  {
   "cell_type": "code",
   "execution_count": null,
   "metadata": {},
   "outputs": [],
   "source": [
    "def check_metabolites(model, metMetabolites):\n",
    "    metExist = []\n",
    "    metNexist = []\n",
    "\n",
    "    for met in metMetabolites:\n",
    "        try: \n",
    "            model.metabolites.get_by_id(met['id'])\n",
    "            metExist.append(met)\n",
    "        except KeyError as e: \n",
    "            metNexist.append(met)\n",
    "\n",
    "    print('Los metabolitos que están:', metExist)\n",
    "    print('Los metabolitos que no están:', metNexist) \n",
    "    return metExist, metNexist"
   ]
  },
  {
   "cell_type": "code",
   "execution_count": null,
   "metadata": {},
   "outputs": [],
   "source": [
    "metExistCore, metNexistCore = check_metabolites(modelCore, metMetabolites)\n",
    "metExistiML, metNexistiML = check_metabolites(modeliML, metMetabolites)"
   ]
  },
  {
   "cell_type": "markdown",
   "metadata": {},
   "source": [
    "Defino la función que me permite agregar los metabolitos al modelo. Según la biblioteca Cobrapy se deben agregar primero los metabolitos faltantes y luego las reaccione, ya que en base a los metabolitos se construye la estequiometría de las reacciones"
   ]
  },
  {
   "cell_type": "code",
   "execution_count": null,
   "metadata": {},
   "outputs": [],
   "source": [
    "def metabolites_to_add(metNexist):\n",
    "    met_to_add = []\n",
    "    for met in metNexist:\n",
    "        m = Metabolite(id=met['id'], formula=met['formula'], name=met['name'], compartment=met['compartment'])\n",
    "        met_to_add.append(m)\n",
    "    print(met_to_add)\n",
    "    return met_to_add"
   ]
  },
  {
   "cell_type": "code",
   "execution_count": null,
   "metadata": {},
   "outputs": [],
   "source": [
    "met_to_add_core = metabolites_to_add(metNexistCore)\n",
    "met_to_add_iML = metabolites_to_add(metNexistiML)"
   ]
  },
  {
   "cell_type": "markdown",
   "metadata": {},
   "source": [
    "Luego defino una función para agregar las reacciones:"
   ]
  },
  {
   "cell_type": "code",
   "execution_count": null,
   "metadata": {},
   "outputs": [],
   "source": [
    "def reactions_to_add(model, rxNexist):\n",
    "    rxs_to_add = []\n",
    "    for rx in rxNexist:\n",
    "        x = Reaction(id=rx['id'], name=rx['Name'], lower_bound=-1000.0)\n",
    "        if(len(rx['gene_reaction_rule'])>0):\n",
    "            print('esto es:', rx['gene_reaction_rule'])\n",
    "            x.gene_reaction_rule = rx['gene_reaction_rule']\n",
    "        rxs_to_add.append(x)\n",
    "        model.add_reactions([x])\n",
    "        x.add_metabolites(rx['Metabolites'])\n",
    "    print('reactions added: ',rxs_to_add)\n",
    "    print('\\n')"
   ]
  },
  {
   "cell_type": "code",
   "execution_count": null,
   "metadata": {},
   "outputs": [],
   "source": [
    "reactions_to_add(modelCore, rxNexistCore)\n",
    "reactions_to_add(modeliML, rxNexistiML)"
   ]
  },
  {
   "cell_type": "markdown",
   "metadata": {},
   "source": [
    "Se pueden definir los límites mínimos y máximos de las reacciones. En este caso, defino que los límites mínimos de las reacciones que forman parte de la síntesis del compuesto de interés sean 0 porque no quiero que sean reversibles"
   ]
  },
  {
   "cell_type": "code",
   "execution_count": null,
   "metadata": {},
   "outputs": [],
   "source": [
    "modelCore.reactions.EX_btd_RR_e.lower_bound = 0\n",
    "modelCore.reactions.ACLS.lower_bound = 0\n",
    "modelCore.reactions.ACLDC.lower_bound = 0\n",
    "modelCore.reactions.BTD_RR.lower_bound = 0\n",
    "modelCore.reactions.BTDt_RR.lower_bound = 0\n",
    "\n",
    "modeliML.reactions.EX_btd_RR_e.lower_bound = 0\n",
    "modeliML.reactions.ACLS.lower_bound = 0\n",
    "modeliML.reactions.ACLDC.lower_bound = 0\n",
    "modeliML.reactions.BTD_RR.lower_bound = 0\n",
    "modeliML.reactions.BTDt_RR.lower_bound = 0"
   ]
  },
  {
   "cell_type": "markdown",
   "metadata": {},
   "source": [
    "Creo una función para definir el medio bajo el cual se desarrollan los modelos. En este caso para definir medios aeróbicos y anaeróbicos"
   ]
  },
  {
   "cell_type": "code",
   "execution_count": null,
   "metadata": {},
   "outputs": [],
   "source": [
    "def modify_medium(model,met, value):\n",
    "    modelA = model.copy()\n",
    "    medium = model.medium\n",
    "    medium[met] = value\n",
    "    modelA.medium = medium\n",
    "    return modelA"
   ]
  },
  {
   "cell_type": "code",
   "execution_count": null,
   "metadata": {},
   "outputs": [],
   "source": [
    "modeliMLA = modify_medium(modeliML, 'EX_o2_e', 0)\n",
    "modelCoreA = modify_medium(modelCore, 'EX_o2_e', 0)"
   ]
  },
  {
   "cell_type": "markdown",
   "metadata": {},
   "source": [
    "Finalmente puedo guardar y exportar los modelos en formato xml (o también json) para reutilizar en el futuro"
   ]
  },
  {
   "cell_type": "code",
   "execution_count": null,
   "metadata": {},
   "outputs": [],
   "source": [
    "write_sbml_model(modelCore, \"models/modelCore.xml\")\n",
    "write_sbml_model(modelCoreA, \"models/modelCoreA.xml\")\n",
    "write_sbml_model(modeliML, \"models/modeliML.xml\")\n",
    "write_sbml_model(modeliMLA, \"models/modeliMLA.xml\")"
   ]
  },
  {
   "cell_type": "code",
   "execution_count": null,
   "metadata": {},
   "outputs": [],
   "source": [
    "display(modelCore)\n",
    "display(modelCoreA)\n",
    "display(modeliML)\n",
    "display(modeliMLA)"
   ]
  }
 ],
 "metadata": {
  "kernelspec": {
   "display_name": "Python 3",
   "language": "python",
   "name": "python3"
  },
  "language_info": {
   "codemirror_mode": {
    "name": "ipython",
    "version": 3
   },
   "file_extension": ".py",
   "mimetype": "text/x-python",
   "name": "python",
   "nbconvert_exporter": "python",
   "pygments_lexer": "ipython3",
   "version": "3.8.5"
  }
 },
 "nbformat": 4,
 "nbformat_minor": 4
}
